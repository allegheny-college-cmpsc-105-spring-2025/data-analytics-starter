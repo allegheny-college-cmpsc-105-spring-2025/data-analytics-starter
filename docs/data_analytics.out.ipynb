{
  "cells": [
    {
      "cell_type": "markdown",
      "metadata": {},
      "source": [
        "# \n",
        "\n",
        "<figure>\n",
        "<a\n",
        "href=\"https://githubtocolab.com/allegheny-college-cmpsc-105-spring-2025/data-analytics-starter/blob/main/exploration.ipynb\"><img\n",
        "src=\"https://colab.research.google.com/assets/colab-badge.svg\"\n",
        "alt=\"Open In Colab\" /></a>\n",
        "<figcaption>Open In Colab</figcaption>\n",
        "</figure>"
      ],
      "id": "3822d34c-c25d-4ccc-b0e5-072c2efc5df6"
    },
    {
      "cell_type": "code",
      "execution_count": null,
      "metadata": {},
      "outputs": [],
      "source": [
        "# load pre-existing tools available for data exploration\n",
        "\n",
        "import pandas as pd\n",
        "import matplotlib.pyplot as plt\n",
        "from ipywidgets import interact # pre existing code for interaction"
      ],
      "id": "cell-2"
    },
    {
      "cell_type": "code",
      "execution_count": null,
      "metadata": {},
      "outputs": [],
      "source": [
        "# TODO: Upload your downloaded CSV files to this Colab environment\n",
        "\n",
        "# Do this by going over to the file icon on the left. Then, toward\n",
        "# the top, find the file upload icon and upload your csv files.\n",
        "\n",
        "# NOTE: the CSV file must have the exact names data_survey.csv and data_analytics.csv"
      ],
      "id": "cell-3"
    },
    {
      "cell_type": "code",
      "execution_count": null,
      "metadata": {},
      "outputs": [],
      "source": [
        "# data_analytics.csv\n",
        "\n",
        "# TODO: update the column names to match the names you have in your csv file for data_analytics\n",
        "\n",
        "# create a pandas dataframe\n",
        "dfa = pd.read_csv(\n",
        "    '/content/data_analytics.csv',\n",
        "    sep=',',\n",
        "    names = ['TODO', 'Replace', 'Your', 'Column names', 'Here', 'separated by commas as needed'],\n",
        "    skiprows=1\n",
        ")\n",
        "\n",
        "# Display the first few rows of the DataFrame\n",
        "print(dfa.head())"
      ],
      "id": "cell-4"
    },
    {
      "cell_type": "code",
      "execution_count": null,
      "metadata": {},
      "outputs": [],
      "source": [
        "# data_survey.csv\n",
        "\n",
        "# TODO: update the column names to match the names you have in your csv file for data_survey\n",
        "\n",
        "# create a pandas dataframe\n",
        "dfs = pd.read_csv(\n",
        "    '/content/data_survey.csv',\n",
        "    sep=',',\n",
        "    names = ['TODO', 'Replace', 'Your', 'Column names', 'Here', 'separated by commas as needed'],\n",
        "    skiprows=1\n",
        ")\n",
        "\n",
        "# Display the first few rows of the DataFrame\n",
        "print(dfs.head())"
      ],
      "id": "cell-5"
    },
    {
      "cell_type": "code",
      "execution_count": null,
      "metadata": {},
      "outputs": [],
      "source": [
        "# TODO: how many rows and columns are in the dataframe dfa?\n",
        "# TODO: how many rows and columns are in the dataframe dfs?"
      ],
      "id": "cell-6"
    },
    {
      "cell_type": "code",
      "execution_count": null,
      "metadata": {},
      "outputs": [],
      "source": [
        "# Analytics\n",
        "\n",
        "# TODO: Do one or more explorations with dfa\n",
        "# no interaction is required\n",
        "\n",
        "# make a blank canvas\n",
        "\n",
        "# make a title starting with 'Figure 1:' Fill in a relevant title\n",
        "plt.title('TODO')\n",
        "\n",
        "# plot\n",
        "# ylabel\n",
        "# xlabel\n",
        "# ylim\n",
        "# etc.\n",
        "\n",
        "# reveal everything"
      ],
      "id": "cell-7"
    },
    {
      "cell_type": "code",
      "execution_count": null,
      "metadata": {},
      "outputs": [],
      "source": [
        "# Survey\n",
        "\n",
        "# TODO: Do one or more explorations with dfs\n",
        "# no interaction is required\n",
        "\n",
        "# make a blank canvas\n",
        "\n",
        "# make a title starting with 'Figure 2:' Fill in a relevant title\n",
        "plt.title('TODO')\n",
        "\n",
        "# plot\n",
        "# ylabel\n",
        "# xlabel\n",
        "# ylim\n",
        "# etc.\n",
        "\n",
        "# reveal everything"
      ],
      "id": "cell-8"
    },
    {
      "cell_type": "code",
      "execution_count": null,
      "metadata": {},
      "outputs": [],
      "source": [
        "# When you are satisfied with your figures, write up your report in the file called report.qmd"
      ],
      "id": "cell-9"
    }
  ],
  "nbformat": 4,
  "nbformat_minor": 5,
  "metadata": {
    "colab": {
      "collapsed_sections": [
        "3GSwb_9b52i-"
      ],
      "provenance": [],
      "toc_visible": true
    },
    "kernelspec": {
      "name": "python3",
      "display_name": "Python 3",
      "language": "python"
    },
    "language_info": {
      "name": "python"
    }
  }
}